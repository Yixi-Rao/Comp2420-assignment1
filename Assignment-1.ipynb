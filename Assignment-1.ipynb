{
 "cells": [
  {
   "cell_type": "markdown",
   "metadata": {},
   "source": [
    "<h1 align='center'> COMP2420/COMP6420 - Introduction to Data Management,<br/> Analysis and Security</h1>\n",
    "\n",
    "<h1 align='center'> Assignment - 1</h1>\n",
    "\n",
    "-----\n",
    "\n",
    "|**Maximum Marks**         |**100**\n",
    "|--------------------------|--------\n",
    "|  **Weight**              |  **10% of the Total Course Grade**\n",
    "|  **Submission deadline** |  ~~**5:00PM, Friday, April 3rd**~~ **4:00PM, Monday, April 20th**\n",
    "|  **Submission mode**     |  **Electronic, Using GitLab**\n",
    "|  **Penalty**             |  **100% after the deadline**\n",
    "\n",
    "\n",
    "## Learning Outcomes\n",
    "The following learning outcomes apply to this piece:\n",
    "- **LO3** - Demonstrate basic knowledge and understanding of descriptive and predictive data analysis methods, optimization and search, and knowledge representation.\n",
    "- **LO4** - Formulate and extract descriptive and predictive statistics from data\n",
    "- **LO5** - Analyse and interpret results from descriptive and predictive data analysis\n",
    "- **LO6** - Apply their knowledge to a given problem domain and articulate potential data analysis problems\n",
    "\n",
    "\n",
    "## Submission\n",
    "\n",
    "You need to submit the following items:\n",
    "- The notebook `Assignment-1-uXXXXXXX.ipynb` (where uXXXXXXX is your uid) \n",
    "- A completed `statement-of-originality.md`, found in the root of the forked gitlab repo.\n",
    "\n",
    "Submissions are performed by pushing to your forked GitLab assignment repository. For a refresher on forking and cloning repositories, please refer to `Lab 1`. Issues with your Git repo (with the exception of a CECS/ANU wide Gitlab failure) will not be considered as grounds for an extension. You will also need to add your details below. Any variation of this will result in a `zero mark`.\n",
    "\n",
    "***** \n",
    "\n",
    "### Notes:\n",
    "\n",
    "* It is strongly advised to read the whole assignment before attempting it and have at least a cursory glance at the dataset in order to gauge the requirements and understand what you need to do as a bigger picture.\n",
    "* Backup your assignment to your Gitlab repo often. \n",
    "* Extra reading and research will be required. Make sure you include all references in your Statement of Originality. If this does not occur, at best marks will be deduced. Otherwise, academic misconduct processes will be followed.\n",
    "* For answers requiring free form written text, use the designated cells denoted by `YOUR WRITTEN ANSWER HERE` -- double click on the cell to write inside them.\n",
    "* For all coding questions please write your code after the comment `YOUR CODE HERE`.\n",
    "* In the process of testing your code, you can insert more cells or use print statements for debugging, but when submitting your file remember to remove these cells and calls respectively. You are welcome to add additional cells to the final submission, provided they add value to the overall piece.\n",
    "* You will be marked on **correctness** and **readability** of your code, if your marker can't understand your code your marks may be deducted.\n",
    "* Comment your code.\n",
    "* Before submitting, restart the kernel in Jupiter Lab and re-run all cells before submitting your code. This will ensure the namespace has not kept any old variables, as these won't come across in submission and your code will not run. Without this, you could lose a significant number of marks.\n",
    "\n",
    "*****"
   ]
  },
  {
   "cell_type": "markdown",
   "metadata": {},
   "source": [
    "### Enter your Student ID below:"
   ]
  },
  {
   "cell_type": "raw",
   "metadata": {},
   "source": [
    "Student ID here"
   ]
  },
  {
   "cell_type": "markdown",
   "metadata": {},
   "source": [
    "******\n",
    "## Introduction\n",
    "\n",
    "In the ever-evolving world of technology, security is everything. To the general consumer, security of a device can be a trivial point as they might have \"Nothing to Hide\". This argument alone is [considered flawed](https://thenextweb.com/contributors/2018/11/20/read-this-if-youve-got-nothing-to-hide/), although we are not here to argue this point. For the purposes of this assignment, we are focused on how device security is important for protecting information. This may have many use cases, such as protecting a [businesses trade secrets](https://www.nbcnews.com/news/china/china-s-hackers-are-stealing-secrets-u-s-firms-again-n917836) or a [government's records on it's citizens](https://en.wikipedia.org/wiki/Office_of_Personnel_Management_data_breach). So, how do we know the system we are using is secure?\n",
    "\n",
    "The software development and security community has taken a very \"open\" approach to highlighting the vulnerabilities in products. Software companies, private and public, commit to ensuring their devices are secure. This placement requires a level of accountability to be in place for their insecurities, and allowing scrutiny from external parties. To this end, systems such as the **Common Vulnerability and Exposures (CVE) system** exist.\n",
    "\n",
    "### What is the Common Vulnerability and Exposures (CVE) system?\n",
    "Think of it like a database that holds a number of the publicly known vulnerabilities that exist for software. The CVE system is the de-facto identifying system for publicly exposed vulnerabilities in systems, used by Apple, Microsoft, Google, Red Hat, etc. The CVE is a schema that allows the consistent storing of information regarding vulnerabilities. However, the CVE system alone is incomplete, and extended by organisations such as the **National Vulnerability Database (NVD)**. More reading on the CVE is [here](https://cve.mitre.org/)\n",
    "\n",
    "### Another Acronym? What is the National Vulnerability Database (NVD)?\n",
    "Get used to it, there are plenty more coming. The NVD is a publicly available US database that holds information regarding all current CVEs. More reading can be found [here](https://nvd.nist.gov/)\n",
    "\n",
    "### So what are we doing with this?\n",
    "Good question! In part to achieve the \"security\" aspect of this course, and to test your python, data analysis and basic machine learning skills, you will be working on a CVE-inspired dataset to answer a number of questions.\n",
    "\n",
    "*****\n",
    "## Data Description\n",
    "We have a sizable dataset to give you (roughly 8000 rows and 24 columns), so it is wise to consider your code in terms of complexity to ensure it doesn't take 30 minutes to run a single line. Please look at the [about](./data/about.md) page in the data folder.\n",
    "\n",
    "****"
   ]
  },
  {
   "cell_type": "code",
   "execution_count": null,
   "metadata": {},
   "outputs": [],
   "source": [
    "# Common Imports\n",
    "import numpy as np\n",
    "import pandas as pd\n",
    "from scipy import stats\n",
    "from sklearn.linear_model import LinearRegression\n",
    "import matplotlib.pyplot as plt\n",
    "from matplotlib import cm\n",
    "import seaborn as sns\n",
    "plt.style.use('seaborn')\n",
    "%matplotlib inline"
   ]
  },
  {
   "cell_type": "code",
   "execution_count": null,
   "metadata": {},
   "outputs": [],
   "source": [
    "# Import additional modules here as required\n",
    "# It is unlikely that you would need any additional modules, however we had added space here just in case you feel \n",
    "#     extras are required. Note that justification as to WHY you are using them MUST be provided.\n",
    "#\n",
    "# Note that only modules in the standard Anaconda distribution are allowed. If you need to install it manually, it is not an accepted package.\n",
    "#\n",
    "#"
   ]
  },
  {
   "cell_type": "markdown",
   "metadata": {},
   "source": [
    "****\n",
    "## Q1: Loading and Processing the Data\n",
    "Your first step in any data analysis and visualisation, load the data and make it usable. Note how there are various columns that use text categories, and some categories missing data altogether. It would be wise to massage the data to make it easier to work on.\n",
    "\n",
    "At a minimum, you should perform the following actions:\n",
    "- Load the data into a Pandas Dataframe\n",
    "- Peform some manner of processing of the data for the following questions.\n",
    "\n",
    "This is an open-ended question, and marks will be awarded for logical processing of data.\n",
    "\n",
    "**HINTS** -\n",
    "* You might need to split some columns into two or combine two columns into one to make them more useful from an analysis point-of-view.\n",
    "* You might need to rename some columns.\n",
    "* It may be worth recoding the CVSS data to the numerical values required for Q2.\n",
    "* You are welcome to drop unwanted columns, as long as the unique key of `(product.name, cve.id)` is kept.\n",
    "\n",
    "<span style= 'float: right;'><b>[5 marks]</b></span>"
   ]
  },
  {
   "cell_type": "code",
   "execution_count": null,
   "metadata": {},
   "outputs": [],
   "source": [
    "# YOUR CODE HERE\n",
    "\n",
    "# (ADD ANY ADDITIONAL CELLS AS REQUIRED)"
   ]
  },
  {
   "cell_type": "markdown",
   "metadata": {},
   "source": [
    "******\n",
    "## Q2: Recreating Missing Data\n",
    "While the dataset that has been provided is thorough, there are missing elements that are referenced in the [About Page](./data/about.md). Of note, the `Base Score` for CVSS v2 and v3 are missing. These equations are well documented in the specification documents. ([CVSSv2 Guide](https://www.first.org/cvss/v2/guide), [CVSSv3 Guide](https://www.first.org/cvss/v3.0/specification-document))\n",
    "\n",
    "Your task is as follows:\n",
    "- Implement a **CVSSv2** Base Score calculator and recalculate the base scores for each applicable entry in the dataset.\n",
    "- Implement a **CVSSv3** Base Score calculator and recalculate the base scores for each applicable entry in the dataset.\n",
    "\n",
    "Ensure the scores are added to each row as necessary.\n",
    "\n",
    "\n",
    "<span style= 'float: right;'><b>[COMP6420: 10 marks]</b></span>\n",
    "<span style= 'float: right;'><b>[COMP2420: 15 marks]</b></span>"
   ]
  },
  {
   "cell_type": "code",
   "execution_count": null,
   "metadata": {},
   "outputs": [],
   "source": [
    "# YOUR CODE HERE\n",
    "\n",
    "# (ADD ANY ADDITIONAL CELLS AS REQUIRED)"
   ]
  },
  {
   "cell_type": "markdown",
   "metadata": {},
   "source": [
    "******\n",
    "## Q3: Identifying Data Analysis Problems\n",
    "### CVEs and real world issues\n",
    "In 2017 (the year this dataset is from), a number of software and hardware vulnerabilities came to light. Take [Meltdown](https://meltdownattack.com/) for example, the speculative execution issue that is said to affect almost every Intel processor since the mid 1990s ([reference](https://www.pcworld.com/article/3245508/intel-responds-to-the-cpu-kernel-bug.html)). \n",
    "\n",
    "The Meltdown CVE ([CVE-2017-5754](https://nvd.nist.gov/vuln/detail/CVE-2017-5754)) is not available in this dataset, however other large bugs from 2017 are.\n",
    "\n",
    "Your task is as follows:\n",
    "- Find the CVE entry/entries in this dataset for another large bug in 2017. \n",
    "    - Don't forget to provide evidence for why it may be considered a _\"large\"_ bug. This should include references to the amount of damage it caused, or could have potentially caused.\n",
    "- Explain how the CVSS system can be used to assist in determining the effects of your bug. Use your CVE entry as evidence for your argument.\n",
    "\n",
    "References are highly recommended for this question so that you can evidence your argument. **DO NOT** forget to list your references, including in your statement of originality document.\n",
    "\n",
    "\n",
    "<span style= 'float: right;'><b>[15 marks]</b></span>"
   ]
  },
  {
   "cell_type": "raw",
   "metadata": {},
   "source": [
    "# YOUR WRITTEN ANSWER HERE"
   ]
  },
  {
   "cell_type": "code",
   "execution_count": null,
   "metadata": {},
   "outputs": [],
   "source": [
    "# YOUR CODE HERE"
   ]
  },
  {
   "cell_type": "markdown",
   "metadata": {},
   "source": [
    "******\n",
    "## Q4: Data Analysis\n",
    "In this section, you will be provided a question or statement that you are required to prove/disprove. For each question, you are to provide a statement outlining your answer, using evidence from the dataset as your justification. You are expected to draw upon not only your visualisation skills, but also your hypothesis testing skills where required. Marks will be allocated based on the depth of your answer.\n",
    "\n",
    "Don't forget to state any assumptions you make in the questions in order to clarify your argument.\n",
    "\n",
    "<span style= 'float: right;'><b>[40 marks]</b></span>"
   ]
  },
  {
   "cell_type": "markdown",
   "metadata": {},
   "source": [
    "### Q4.1: Is there a relationship between an entry's CWE identifier and CVSSv3 base score?\n",
    "Note there are a number of ways to perform this, however due to the number of CWEs available in the dataset you can restrict the options (with justification) for analysis to reduce computational complexity.\n",
    "\n",
    "<span style= 'float: right;'><b>[10 marks]</b></span>"
   ]
  },
  {
   "cell_type": "raw",
   "metadata": {},
   "source": [
    "# YOUR WRITTEN ANSWER HERE"
   ]
  },
  {
   "cell_type": "code",
   "execution_count": null,
   "metadata": {},
   "outputs": [],
   "source": [
    "# YOUR CODE HERE"
   ]
  },
  {
   "cell_type": "markdown",
   "metadata": {},
   "source": [
    "### Q4.2: The CVSSv2 and CVSSv3 scoring systems are different, and their changes are well documented. Is there an implicit relationship between the two Base Score features despite their differences in calculation?\n",
    "**Note:** Implicit is defined as \"capable of being understood from something else though unexpressed\" ([reference](https://www.merriam-webster.com/dictionary/implicit))\n",
    "\n",
    "<span style= 'float: right;'><b>[5 marks]</b></span>"
   ]
  },
  {
   "cell_type": "raw",
   "metadata": {},
   "source": [
    "# YOUR WRITTEN ANSWER HERE"
   ]
  },
  {
   "cell_type": "code",
   "execution_count": null,
   "metadata": {},
   "outputs": [],
   "source": [
    "# YOUR CODE HERE"
   ]
  },
  {
   "cell_type": "markdown",
   "metadata": {},
   "source": [
    "### Q4.3: Assess the following statement: \"The entries with User Interaction Required have a lower CVSS Base Score.\"\n",
    "**Hint:** A Hypothesis Test is a good way to assess a statement.\n",
    "\n",
    "<span style= 'float: right;'><b>[15 marks]</b></span>"
   ]
  },
  {
   "cell_type": "raw",
   "metadata": {},
   "source": [
    "# YOUR WRITTEN ANSWER HERE"
   ]
  },
  {
   "cell_type": "code",
   "execution_count": null,
   "metadata": {},
   "outputs": [],
   "source": [
    "# YOUR CODE HERE"
   ]
  },
  {
   "cell_type": "markdown",
   "metadata": {},
   "source": [
    "### Q4.4: This dataset is full of subtleties. Find an implicit relationship (not covered above) between two (or move) columns in the dataset and discuss how it could be used to better understand the two (or more) columns in the relationship.\n",
    "**Note:** Implicit is defined as \"capable of being understood from something else though unexpressed\" ([reference](https://www.merriam-webster.com/dictionary/implicit))\n",
    "\n",
    "<span style= 'float: right;'><b>[10 marks]</b></span>"
   ]
  },
  {
   "cell_type": "raw",
   "metadata": {},
   "source": [
    "# YOUR WRITTEN ANSWER HERE"
   ]
  },
  {
   "cell_type": "code",
   "execution_count": null,
   "metadata": {},
   "outputs": [],
   "source": [
    "# YOUR CODE HERE"
   ]
  },
  {
   "cell_type": "markdown",
   "metadata": {},
   "source": [
    "*****\n",
    "## Q5: Linear Regression\n",
    "While the equation to generate the CVSS scoring systems (v2 or v3) have been well defined (as you would have implemented above), it stands to reason that it would be possible to generate these results using a different equation, or less variables.\n",
    "\n",
    "Your task is as follows:\n",
    "- Using a Linear Regression model, show how it could be possible (or impossible) to predict a CVSS score based on the variables provided in the dataset.\n",
    "\n",
    "You are able to choose any variables in the dataset, except of course the base scores themselves. This means you can try to use CVSSv2 indicators to predict a CVSSv3 score, or vice versa. After running your experiment, provide a written answer highlighting your results and the outcome of your work.\n",
    "\n",
    "Marks will be provided for the quality of your response, and the evidence used to prove or disprove whether a CVSS score can be generated without using the above equation.\n",
    "\n",
    "<span style= 'float: right;'><b>[10 marks]</b></span>"
   ]
  },
  {
   "cell_type": "raw",
   "metadata": {},
   "source": [
    "Enter your Response and Predictors here (for marker simplicity)\n",
    "Response:\n",
    "Predictors:"
   ]
  },
  {
   "cell_type": "code",
   "execution_count": null,
   "metadata": {},
   "outputs": [],
   "source": [
    "# YOUR CODE HERE"
   ]
  },
  {
   "cell_type": "raw",
   "metadata": {},
   "source": [
    "# YOUR WRITTEN RESPONSE HERE"
   ]
  },
  {
   "cell_type": "markdown",
   "metadata": {},
   "source": [
    "*****\n",
    "## Q6: New Data From Old\n",
    "\n",
    "<br>\n",
    "Sometimes, the data you have available is not fit for purpose to meet your ultimate end goals. There are specific instances where this data is important, one of which is outlined below.\n",
    "\n",
    "### The Task\n",
    "Your task is as follows:\n",
    "- Develop a basic heuristic using the CVSS metrics available to categorise the dataset entries based on their threat to the context/s below. Consider items (such as Attack Complexity) when developing this system. Run your heuristic over the dataset, and add the output to each row on the dataset, under the column name `Threat Classification`.\n",
    "- Justify your use of variables in the written section below and explain how this might be an effective solution to stopping attacks.\n",
    "\n",
    "There are two items you will be marked against:\n",
    "1. A solution based on a real world example that this is inspired from. Your solution will be considered as to how well it satisfies and extends upon the context below.\n",
    "2. Your rationale and justification for your heuristic.\n",
    "\n",
    "In addition to your code solution, please supply a free-form text explanation of your heuristic. Inspiration from this can be drawn from the CVSS specification schemes referenced above.\n",
    "\n",
    "Note that COMP2420 Students and COMP6420 Students are supplied with different contexts. COMP6420 students are expected to show greater insight and deeper understanding when developing and applying their heuristic. This includes making assumptions of the type and importance of information being secured and protected in this classification system.\n",
    "\n",
    "### COMP2420 Context\n",
    "Consider a situation where you are a security team with limited funds, required to patch multiple security products based on their CVEs. You are only able to patch _n_ vulnerabilities due to budget limitations, and therefore need a way to prioritise which vulnerabilities need patching. While the CVSS systems provide a good general system for determining the threat level of a vulnerability, you are more concerned with weaknesses that can be exploited over a **network**, and require minimal user interaction.\n",
    "\n",
    "### COMP6420 Context\n",
    "Consider a situation where a government agency is assessing the quality of products and patching products for use in secure environments. Your team is small and resources are limited, and therefore you will not be able to patch every issue available. You want to develop a triage<sup>*</sup> system for assessing vulnerabilities to advise organisations of the threats they may face based on the relative danger of having unpatched vulnerabilities in their environments, and determine the most severe vulnerabilities which will need patching by your team when advising organisations. Your team is mainly focused upon network attacks that require minimal user interaction, although you assume that the complexity of carrying out a specific exploit is not important due to the skills of your adversaries. Your team is not familiar with the CVSS system, and has a basic understanding of what the CVE system is, and therefore you need to account for this in your explanation and development of the system.\n",
    "\n",
    "<sup>*</sup>For this content, a triage is defined as\n",
    "> The assigning of priority order to projects on the basis of where funds and other resources can be best used, are most needed, or are most likely to achieve success ([Merriam-Webster Dictionary](https://www.merriam-webster.com/dictionary/triage))\n",
    "\n",
    "<span style= 'float: right;'><b>[COMP6420: 20 marks]</b></span>\n",
    "<span style= 'float: right;'><b>[COMP2420: 15 marks]</b></span>"
   ]
  },
  {
   "cell_type": "code",
   "execution_count": null,
   "metadata": {},
   "outputs": [],
   "source": [
    "# YOUR CODE HERE"
   ]
  },
  {
   "cell_type": "raw",
   "metadata": {},
   "source": [
    "# HEURISTIC EXPLANATION HERE"
   ]
  },
  {
   "cell_type": "raw",
   "metadata": {},
   "source": [
    "# YOUR WRITTEN JUSTIFICATION HERE "
   ]
  }
 ],
 "metadata": {
  "kernelspec": {
   "display_name": "Python 3",
   "language": "python",
   "name": "python3"
  },
  "language_info": {
   "codemirror_mode": {
    "name": "ipython",
    "version": 3
   },
   "file_extension": ".py",
   "mimetype": "text/x-python",
   "name": "python",
   "nbconvert_exporter": "python",
   "pygments_lexer": "ipython3",
   "version": "3.7.6"
  }
 },
 "nbformat": 4,
 "nbformat_minor": 4
}
